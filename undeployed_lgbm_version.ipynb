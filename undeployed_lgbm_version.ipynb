{
 "cells": [
  {
   "cell_type": "markdown",
   "metadata": {},
   "source": [
    "# Model Development & Evaluation"
   ]
  },
  {
   "cell_type": "markdown",
   "metadata": {},
   "source": [
    "## Import Libraries"
   ]
  },
  {
   "cell_type": "code",
   "execution_count": 1,
   "metadata": {},
   "outputs": [
    {
     "name": "stderr",
     "output_type": "stream",
     "text": [
      "\n",
      "Bad key \"text.kerning_factor\" on line 4 in\n",
      "C:\\Users\\sumai\\Anaconda3\\lib\\site-packages\\matplotlib\\mpl-data\\stylelib\\_classic_test_patch.mplstyle.\n",
      "You probably need to get an updated matplotlibrc file from\n",
      "https://github.com/matplotlib/matplotlib/blob/v3.1.3/matplotlibrc.template\n",
      "or from the matplotlib source distribution\n"
     ]
    }
   ],
   "source": [
    "import pandas as pd\n",
    "import numpy as np\n",
    "import missingno as msno\n",
    "import matplotlib.pyplot as plt\n",
    "import seaborn as sns\n",
    "from scipy import stats\n",
    "from lightgbm.sklearn import LGBMRegressor"
   ]
  },
  {
   "cell_type": "markdown",
   "metadata": {},
   "source": [
    "## Load Dataset"
   ]
  },
  {
   "cell_type": "code",
   "execution_count": 2,
   "metadata": {},
   "outputs": [
    {
     "name": "stdout",
     "output_type": "stream",
     "text": [
      "(1876, 10)\n"
     ]
    },
    {
     "data": {
      "text/html": [
       "<div>\n",
       "<style scoped>\n",
       "    .dataframe tbody tr th:only-of-type {\n",
       "        vertical-align: middle;\n",
       "    }\n",
       "\n",
       "    .dataframe tbody tr th {\n",
       "        vertical-align: top;\n",
       "    }\n",
       "\n",
       "    .dataframe thead th {\n",
       "        text-align: right;\n",
       "    }\n",
       "</style>\n",
       "<table border=\"1\" class=\"dataframe\">\n",
       "  <thead>\n",
       "    <tr style=\"text-align: right;\">\n",
       "      <th></th>\n",
       "      <th>avg_temp</th>\n",
       "      <th>max_temp</th>\n",
       "      <th>min_temp</th>\n",
       "      <th>sealevel_pressure</th>\n",
       "      <th>avg_humidity</th>\n",
       "      <th>rainfall_snowmelt</th>\n",
       "      <th>visibility</th>\n",
       "      <th>avg_windspeed</th>\n",
       "      <th>max_windspeed</th>\n",
       "      <th>PM2.5</th>\n",
       "    </tr>\n",
       "  </thead>\n",
       "  <tbody>\n",
       "    <tr>\n",
       "      <th>0</th>\n",
       "      <td>14.75</td>\n",
       "      <td>20.85</td>\n",
       "      <td>9.2</td>\n",
       "      <td>1023.95</td>\n",
       "      <td>45.0</td>\n",
       "      <td>0.0</td>\n",
       "      <td>16.10</td>\n",
       "      <td>4.20</td>\n",
       "      <td>16.75</td>\n",
       "      <td>18.644444</td>\n",
       "    </tr>\n",
       "    <tr>\n",
       "      <th>1</th>\n",
       "      <td>13.70</td>\n",
       "      <td>19.00</td>\n",
       "      <td>10.0</td>\n",
       "      <td>1013.95</td>\n",
       "      <td>70.0</td>\n",
       "      <td>0.0</td>\n",
       "      <td>12.65</td>\n",
       "      <td>4.50</td>\n",
       "      <td>12.95</td>\n",
       "      <td>26.358824</td>\n",
       "    </tr>\n",
       "    <tr>\n",
       "      <th>2</th>\n",
       "      <td>14.80</td>\n",
       "      <td>20.15</td>\n",
       "      <td>9.9</td>\n",
       "      <td>1017.85</td>\n",
       "      <td>69.0</td>\n",
       "      <td>0.0</td>\n",
       "      <td>16.10</td>\n",
       "      <td>4.90</td>\n",
       "      <td>18.60</td>\n",
       "      <td>10.700000</td>\n",
       "    </tr>\n",
       "    <tr>\n",
       "      <th>3</th>\n",
       "      <td>13.05</td>\n",
       "      <td>16.40</td>\n",
       "      <td>9.5</td>\n",
       "      <td>1013.30</td>\n",
       "      <td>54.5</td>\n",
       "      <td>0.0</td>\n",
       "      <td>16.10</td>\n",
       "      <td>12.50</td>\n",
       "      <td>24.15</td>\n",
       "      <td>4.788889</td>\n",
       "    </tr>\n",
       "    <tr>\n",
       "      <th>4</th>\n",
       "      <td>17.15</td>\n",
       "      <td>21.40</td>\n",
       "      <td>12.2</td>\n",
       "      <td>1012.20</td>\n",
       "      <td>48.5</td>\n",
       "      <td>0.0</td>\n",
       "      <td>16.10</td>\n",
       "      <td>11.75</td>\n",
       "      <td>33.25</td>\n",
       "      <td>8.733333</td>\n",
       "    </tr>\n",
       "  </tbody>\n",
       "</table>\n",
       "</div>"
      ],
      "text/plain": [
       "   avg_temp  max_temp  min_temp  sealevel_pressure  avg_humidity  \\\n",
       "0     14.75     20.85       9.2            1023.95          45.0   \n",
       "1     13.70     19.00      10.0            1013.95          70.0   \n",
       "2     14.80     20.15       9.9            1017.85          69.0   \n",
       "3     13.05     16.40       9.5            1013.30          54.5   \n",
       "4     17.15     21.40      12.2            1012.20          48.5   \n",
       "\n",
       "   rainfall_snowmelt  visibility  avg_windspeed  max_windspeed      PM2.5  \n",
       "0                0.0       16.10           4.20          16.75  18.644444  \n",
       "1                0.0       12.65           4.50          12.95  26.358824  \n",
       "2                0.0       16.10           4.90          18.60  10.700000  \n",
       "3                0.0       16.10          12.50          24.15   4.788889  \n",
       "4                0.0       16.10          11.75          33.25   8.733333  "
      ]
     },
     "execution_count": 2,
     "metadata": {},
     "output_type": "execute_result"
    }
   ],
   "source": [
    "df = pd.read_csv('preprocessed_data_LA.csv', usecols = ['T', 'TM', 'Tm', 'SLP', 'H', 'PP', 'VV', 'V', 'VM','PM2.5'])\n",
    "df.columns = ['avg_temp', 'max_temp', 'min_temp', 'sealevel_pressure', 'avg_humidity', 'rainfall_snowmelt', 'visibility', 'avg_windspeed', 'max_windspeed', 'PM2.5']\n",
    "print (df.shape)\n",
    "df.head()"
   ]
  },
  {
   "cell_type": "markdown",
   "metadata": {},
   "source": [
    "## Split Input and Traget Variables"
   ]
  },
  {
   "cell_type": "code",
   "execution_count": 3,
   "metadata": {},
   "outputs": [
    {
     "data": {
      "text/plain": [
       "Index(['avg_temp', 'max_temp', 'min_temp', 'sealevel_pressure', 'avg_humidity',\n",
       "       'rainfall_snowmelt', 'visibility', 'avg_windspeed', 'max_windspeed'],\n",
       "      dtype='object')"
      ]
     },
     "execution_count": 3,
     "metadata": {},
     "output_type": "execute_result"
    }
   ],
   "source": [
    "X = df.drop('PM2.5', axis = 1)\n",
    "y = df['PM2.5']\n",
    "X.columns"
   ]
  },
  {
   "cell_type": "markdown",
   "metadata": {},
   "source": [
    "## Train Test Split"
   ]
  },
  {
   "cell_type": "code",
   "execution_count": 4,
   "metadata": {},
   "outputs": [
    {
     "name": "stdout",
     "output_type": "stream",
     "text": [
      "Original shape of dataset: (1876, 10)\n",
      "Shape of training dataset: (1313, 9)\n",
      "Shape of testing dataset: (563, 9)\n"
     ]
    }
   ],
   "source": [
    "# train_test_split is used to split the dataset into test set and train set\n",
    "from sklearn.model_selection import train_test_split\n",
    "X_train, X_test, y_train, y_test = train_test_split(X, y, test_size=0.30, random_state = 42)\n",
    "\n",
    "print(\"Original shape of dataset: {}\".format(df.shape))         # shape of original dataset\n",
    "print(\"Shape of training dataset: {}\".format(X_train.shape))      # shape of training dataset after split\n",
    "print(\"Shape of testing dataset: {}\".format(X_test.shape))        # shape of testing dataset after split"
   ]
  },
  {
   "cell_type": "code",
   "execution_count": 5,
   "metadata": {},
   "outputs": [],
   "source": [
    "from sklearn.preprocessing import StandardScaler\n",
    "sc = StandardScaler()\n",
    "X_train = sc.fit_transform(X_train)\n",
    "X_test = sc.transform(X_test)"
   ]
  },
  {
   "cell_type": "markdown",
   "metadata": {},
   "source": [
    "## Model Selection"
   ]
  },
  {
   "cell_type": "code",
   "execution_count": 6,
   "metadata": {},
   "outputs": [
    {
     "name": "stderr",
     "output_type": "stream",
     "text": [
      "C:\\Users\\sumai\\Anaconda3\\lib\\site-packages\\sklearn\\utils\\deprecation.py:143: FutureWarning: The sklearn.utils.testing module is  deprecated in version 0.22 and will be removed in version 0.24. The corresponding classes / functions should instead be imported from sklearn.utils. Anything that cannot be imported from sklearn.utils is now part of the private API.\n",
      "  warnings.warn(message, FutureWarning)\n",
      " 88%|████████▊ | 38/43 [00:04<00:00,  9.02it/s]"
     ]
    },
    {
     "name": "stdout",
     "output_type": "stream",
     "text": [
      "[03:43:14] WARNING: src/objective/regression_obj.cu:152: reg:linear is now deprecated in favor of reg:squarederror.\n"
     ]
    },
    {
     "name": "stderr",
     "output_type": "stream",
     "text": [
      "100%|██████████| 43/43 [00:05<00:00,  8.41it/s]\n"
     ]
    },
    {
     "data": {
      "text/html": [
       "<div>\n",
       "<style scoped>\n",
       "    .dataframe tbody tr th:only-of-type {\n",
       "        vertical-align: middle;\n",
       "    }\n",
       "\n",
       "    .dataframe tbody tr th {\n",
       "        vertical-align: top;\n",
       "    }\n",
       "\n",
       "    .dataframe thead th {\n",
       "        text-align: right;\n",
       "    }\n",
       "</style>\n",
       "<table border=\"1\" class=\"dataframe\">\n",
       "  <thead>\n",
       "    <tr style=\"text-align: right;\">\n",
       "      <th></th>\n",
       "      <th>R-Squared</th>\n",
       "      <th>RMSE</th>\n",
       "      <th>Time Taken</th>\n",
       "    </tr>\n",
       "    <tr>\n",
       "      <th>Model</th>\n",
       "      <th></th>\n",
       "      <th></th>\n",
       "      <th></th>\n",
       "    </tr>\n",
       "  </thead>\n",
       "  <tbody>\n",
       "    <tr>\n",
       "      <th>LGBMRegressor</th>\n",
       "      <td>0.60</td>\n",
       "      <td>3.22</td>\n",
       "      <td>0.14</td>\n",
       "    </tr>\n",
       "    <tr>\n",
       "      <th>GradientBoostingRegressor</th>\n",
       "      <td>0.59</td>\n",
       "      <td>3.25</td>\n",
       "      <td>0.21</td>\n",
       "    </tr>\n",
       "    <tr>\n",
       "      <th>XGBRegressor</th>\n",
       "      <td>0.59</td>\n",
       "      <td>3.25</td>\n",
       "      <td>0.06</td>\n",
       "    </tr>\n",
       "    <tr>\n",
       "      <th>HistGradientBoostingRegressor</th>\n",
       "      <td>0.58</td>\n",
       "      <td>3.29</td>\n",
       "      <td>1.19</td>\n",
       "    </tr>\n",
       "    <tr>\n",
       "      <th>RandomForestRegressor</th>\n",
       "      <td>0.58</td>\n",
       "      <td>3.30</td>\n",
       "      <td>0.63</td>\n",
       "    </tr>\n",
       "    <tr>\n",
       "      <th>ExtraTreesRegressor</th>\n",
       "      <td>0.56</td>\n",
       "      <td>3.36</td>\n",
       "      <td>0.38</td>\n",
       "    </tr>\n",
       "    <tr>\n",
       "      <th>BaggingRegressor</th>\n",
       "      <td>0.54</td>\n",
       "      <td>3.45</td>\n",
       "      <td>0.07</td>\n",
       "    </tr>\n",
       "    <tr>\n",
       "      <th>NuSVR</th>\n",
       "      <td>0.54</td>\n",
       "      <td>3.45</td>\n",
       "      <td>0.08</td>\n",
       "    </tr>\n",
       "    <tr>\n",
       "      <th>SVR</th>\n",
       "      <td>0.54</td>\n",
       "      <td>3.47</td>\n",
       "      <td>0.08</td>\n",
       "    </tr>\n",
       "    <tr>\n",
       "      <th>MLPRegressor</th>\n",
       "      <td>0.53</td>\n",
       "      <td>3.50</td>\n",
       "      <td>1.35</td>\n",
       "    </tr>\n",
       "    <tr>\n",
       "      <th>KNeighborsRegressor</th>\n",
       "      <td>0.50</td>\n",
       "      <td>3.60</td>\n",
       "      <td>0.03</td>\n",
       "    </tr>\n",
       "    <tr>\n",
       "      <th>PoissonRegressor</th>\n",
       "      <td>0.47</td>\n",
       "      <td>3.71</td>\n",
       "      <td>0.01</td>\n",
       "    </tr>\n",
       "    <tr>\n",
       "      <th>HuberRegressor</th>\n",
       "      <td>0.44</td>\n",
       "      <td>3.81</td>\n",
       "      <td>0.03</td>\n",
       "    </tr>\n",
       "    <tr>\n",
       "      <th>Lars</th>\n",
       "      <td>0.44</td>\n",
       "      <td>3.81</td>\n",
       "      <td>0.01</td>\n",
       "    </tr>\n",
       "    <tr>\n",
       "      <th>LinearRegression</th>\n",
       "      <td>0.44</td>\n",
       "      <td>3.81</td>\n",
       "      <td>0.01</td>\n",
       "    </tr>\n",
       "    <tr>\n",
       "      <th>TransformedTargetRegressor</th>\n",
       "      <td>0.44</td>\n",
       "      <td>3.81</td>\n",
       "      <td>0.01</td>\n",
       "    </tr>\n",
       "    <tr>\n",
       "      <th>Ridge</th>\n",
       "      <td>0.44</td>\n",
       "      <td>3.81</td>\n",
       "      <td>0.01</td>\n",
       "    </tr>\n",
       "    <tr>\n",
       "      <th>RidgeCV</th>\n",
       "      <td>0.44</td>\n",
       "      <td>3.81</td>\n",
       "      <td>0.01</td>\n",
       "    </tr>\n",
       "    <tr>\n",
       "      <th>BayesianRidge</th>\n",
       "      <td>0.44</td>\n",
       "      <td>3.81</td>\n",
       "      <td>0.01</td>\n",
       "    </tr>\n",
       "    <tr>\n",
       "      <th>ElasticNetCV</th>\n",
       "      <td>0.44</td>\n",
       "      <td>3.82</td>\n",
       "      <td>0.08</td>\n",
       "    </tr>\n",
       "    <tr>\n",
       "      <th>LassoCV</th>\n",
       "      <td>0.44</td>\n",
       "      <td>3.82</td>\n",
       "      <td>0.07</td>\n",
       "    </tr>\n",
       "    <tr>\n",
       "      <th>LassoLarsCV</th>\n",
       "      <td>0.44</td>\n",
       "      <td>3.82</td>\n",
       "      <td>0.02</td>\n",
       "    </tr>\n",
       "    <tr>\n",
       "      <th>LarsCV</th>\n",
       "      <td>0.44</td>\n",
       "      <td>3.82</td>\n",
       "      <td>0.02</td>\n",
       "    </tr>\n",
       "    <tr>\n",
       "      <th>SGDRegressor</th>\n",
       "      <td>0.44</td>\n",
       "      <td>3.82</td>\n",
       "      <td>0.01</td>\n",
       "    </tr>\n",
       "    <tr>\n",
       "      <th>LassoLarsIC</th>\n",
       "      <td>0.44</td>\n",
       "      <td>3.82</td>\n",
       "      <td>0.01</td>\n",
       "    </tr>\n",
       "    <tr>\n",
       "      <th>LinearSVR</th>\n",
       "      <td>0.44</td>\n",
       "      <td>3.82</td>\n",
       "      <td>0.01</td>\n",
       "    </tr>\n",
       "    <tr>\n",
       "      <th>OrthogonalMatchingPursuitCV</th>\n",
       "      <td>0.43</td>\n",
       "      <td>3.83</td>\n",
       "      <td>0.02</td>\n",
       "    </tr>\n",
       "    <tr>\n",
       "      <th>AdaBoostRegressor</th>\n",
       "      <td>0.43</td>\n",
       "      <td>3.84</td>\n",
       "      <td>0.12</td>\n",
       "    </tr>\n",
       "    <tr>\n",
       "      <th>GammaRegressor</th>\n",
       "      <td>0.39</td>\n",
       "      <td>3.98</td>\n",
       "      <td>0.01</td>\n",
       "    </tr>\n",
       "    <tr>\n",
       "      <th>Lasso</th>\n",
       "      <td>0.38</td>\n",
       "      <td>4.01</td>\n",
       "      <td>0.01</td>\n",
       "    </tr>\n",
       "    <tr>\n",
       "      <th>GeneralizedLinearRegressor</th>\n",
       "      <td>0.38</td>\n",
       "      <td>4.01</td>\n",
       "      <td>0.01</td>\n",
       "    </tr>\n",
       "    <tr>\n",
       "      <th>TweedieRegressor</th>\n",
       "      <td>0.38</td>\n",
       "      <td>4.01</td>\n",
       "      <td>0.01</td>\n",
       "    </tr>\n",
       "    <tr>\n",
       "      <th>ElasticNet</th>\n",
       "      <td>0.38</td>\n",
       "      <td>4.01</td>\n",
       "      <td>0.01</td>\n",
       "    </tr>\n",
       "    <tr>\n",
       "      <th>RANSACRegressor</th>\n",
       "      <td>0.32</td>\n",
       "      <td>4.19</td>\n",
       "      <td>0.07</td>\n",
       "    </tr>\n",
       "    <tr>\n",
       "      <th>PassiveAggressiveRegressor</th>\n",
       "      <td>0.29</td>\n",
       "      <td>4.29</td>\n",
       "      <td>0.01</td>\n",
       "    </tr>\n",
       "    <tr>\n",
       "      <th>OrthogonalMatchingPursuit</th>\n",
       "      <td>0.28</td>\n",
       "      <td>4.33</td>\n",
       "      <td>0.01</td>\n",
       "    </tr>\n",
       "    <tr>\n",
       "      <th>DecisionTreeRegressor</th>\n",
       "      <td>0.23</td>\n",
       "      <td>4.46</td>\n",
       "      <td>0.02</td>\n",
       "    </tr>\n",
       "    <tr>\n",
       "      <th>ExtraTreeRegressor</th>\n",
       "      <td>0.10</td>\n",
       "      <td>4.82</td>\n",
       "      <td>0.01</td>\n",
       "    </tr>\n",
       "    <tr>\n",
       "      <th>DummyRegressor</th>\n",
       "      <td>-0.00</td>\n",
       "      <td>5.10</td>\n",
       "      <td>0.01</td>\n",
       "    </tr>\n",
       "    <tr>\n",
       "      <th>LassoLars</th>\n",
       "      <td>-0.00</td>\n",
       "      <td>5.10</td>\n",
       "      <td>0.01</td>\n",
       "    </tr>\n",
       "    <tr>\n",
       "      <th>GaussianProcessRegressor</th>\n",
       "      <td>-1.04</td>\n",
       "      <td>7.27</td>\n",
       "      <td>0.14</td>\n",
       "    </tr>\n",
       "    <tr>\n",
       "      <th>KernelRidge</th>\n",
       "      <td>-5.44</td>\n",
       "      <td>12.92</td>\n",
       "      <td>0.07</td>\n",
       "    </tr>\n",
       "  </tbody>\n",
       "</table>\n",
       "</div>"
      ],
      "text/plain": [
       "                               R-Squared  RMSE  Time Taken\n",
       "Model                                                     \n",
       "LGBMRegressor                       0.60  3.22        0.14\n",
       "GradientBoostingRegressor           0.59  3.25        0.21\n",
       "XGBRegressor                        0.59  3.25        0.06\n",
       "HistGradientBoostingRegressor       0.58  3.29        1.19\n",
       "RandomForestRegressor               0.58  3.30        0.63\n",
       "ExtraTreesRegressor                 0.56  3.36        0.38\n",
       "BaggingRegressor                    0.54  3.45        0.07\n",
       "NuSVR                               0.54  3.45        0.08\n",
       "SVR                                 0.54  3.47        0.08\n",
       "MLPRegressor                        0.53  3.50        1.35\n",
       "KNeighborsRegressor                 0.50  3.60        0.03\n",
       "PoissonRegressor                    0.47  3.71        0.01\n",
       "HuberRegressor                      0.44  3.81        0.03\n",
       "Lars                                0.44  3.81        0.01\n",
       "LinearRegression                    0.44  3.81        0.01\n",
       "TransformedTargetRegressor          0.44  3.81        0.01\n",
       "Ridge                               0.44  3.81        0.01\n",
       "RidgeCV                             0.44  3.81        0.01\n",
       "BayesianRidge                       0.44  3.81        0.01\n",
       "ElasticNetCV                        0.44  3.82        0.08\n",
       "LassoCV                             0.44  3.82        0.07\n",
       "LassoLarsCV                         0.44  3.82        0.02\n",
       "LarsCV                              0.44  3.82        0.02\n",
       "SGDRegressor                        0.44  3.82        0.01\n",
       "LassoLarsIC                         0.44  3.82        0.01\n",
       "LinearSVR                           0.44  3.82        0.01\n",
       "OrthogonalMatchingPursuitCV         0.43  3.83        0.02\n",
       "AdaBoostRegressor                   0.43  3.84        0.12\n",
       "GammaRegressor                      0.39  3.98        0.01\n",
       "Lasso                               0.38  4.01        0.01\n",
       "GeneralizedLinearRegressor          0.38  4.01        0.01\n",
       "TweedieRegressor                    0.38  4.01        0.01\n",
       "ElasticNet                          0.38  4.01        0.01\n",
       "RANSACRegressor                     0.32  4.19        0.07\n",
       "PassiveAggressiveRegressor          0.29  4.29        0.01\n",
       "OrthogonalMatchingPursuit           0.28  4.33        0.01\n",
       "DecisionTreeRegressor               0.23  4.46        0.02\n",
       "ExtraTreeRegressor                  0.10  4.82        0.01\n",
       "DummyRegressor                     -0.00  5.10        0.01\n",
       "LassoLars                          -0.00  5.10        0.01\n",
       "GaussianProcessRegressor           -1.04  7.27        0.14\n",
       "KernelRidge                        -5.44 12.92        0.07"
      ]
     },
     "execution_count": 6,
     "metadata": {},
     "output_type": "execute_result"
    }
   ],
   "source": [
    "from lazypredict.Supervised import LazyRegressor\n",
    "reg = LazyRegressor(verbose = 0, ignore_warnings = True, custom_metric = None)\n",
    "model, predictions = reg.fit(X_train, X_test, y_train, y_test)\n",
    "model"
   ]
  },
  {
   "cell_type": "markdown",
   "metadata": {},
   "source": [
    "### Model Building: LightGBM Regressor"
   ]
  },
  {
   "cell_type": "code",
   "execution_count": 7,
   "metadata": {},
   "outputs": [
    {
     "name": "stdout",
     "output_type": "stream",
     "text": [
      "Parameters currently in use:\n",
      "\n",
      "{'boosting_type': 'gbdt',\n",
      " 'class_weight': None,\n",
      " 'colsample_bytree': 1.0,\n",
      " 'importance_type': 'split',\n",
      " 'learning_rate': 0.1,\n",
      " 'max_depth': -1,\n",
      " 'min_child_samples': 20,\n",
      " 'min_child_weight': 0.001,\n",
      " 'min_split_gain': 0.0,\n",
      " 'n_estimators': 100,\n",
      " 'n_jobs': -1,\n",
      " 'num_leaves': 31,\n",
      " 'objective': None,\n",
      " 'random_state': 42,\n",
      " 'reg_alpha': 0.0,\n",
      " 'reg_lambda': 0.0,\n",
      " 'silent': True,\n",
      " 'subsample': 1.0,\n",
      " 'subsample_for_bin': 200000,\n",
      " 'subsample_freq': 0}\n"
     ]
    }
   ],
   "source": [
    "from lightgbm.sklearn import LGBMRegressor\n",
    "from sklearn import model_selection\n",
    "from pprint import pprint\n",
    "\n",
    "lgbm = base_model = LGBMRegressor(random_state = 42)\n",
    "\n",
    "# Look at parameters used by our current forest\n",
    "print('Parameters currently in use:\\n')\n",
    "pprint(lgbm.get_params())"
   ]
  },
  {
   "cell_type": "code",
   "execution_count": 8,
   "metadata": {},
   "outputs": [],
   "source": [
    "### We've tried the following range of hyperparameters\n",
    "\n",
    "#n_estimators = [int(x) for x in np.linspace(start = 10, stop = 100, num = 11)]\n",
    "#boosting_type = ['gbdt', 'dart', 'goss', 'rf']\n",
    "#min_child_weight = [0.00001, 0.0001, 0.001, 0.01, 0.1]\n",
    "#min_child_samples = [int(x) for x in np.linspace(start = 100, stop = 1000, num = 100)]"
   ]
  },
  {
   "cell_type": "markdown",
   "metadata": {},
   "source": [
    "### Random Hyperparameter Grid"
   ]
  },
  {
   "cell_type": "code",
   "execution_count": 9,
   "metadata": {},
   "outputs": [
    {
     "name": "stdout",
     "output_type": "stream",
     "text": [
      "{'boosting_type': ['gbdt', 'goss'],\n",
      " 'min_child_samples': [20, 30, 50],\n",
      " 'min_child_weight': [1e-05, 0.0001],\n",
      " 'n_estimators': [50],\n",
      " 'reg_alpha': [0.0001, 0.001]}\n"
     ]
    }
   ],
   "source": [
    "import numpy as np\n",
    "from pprint import pprint\n",
    "from sklearn.model_selection import RandomizedSearchCV\n",
    "\n",
    "n_estimators = [50]\n",
    "boosting_type = ['gbdt', 'goss']\n",
    "min_child_samples = [20, 30, 50]\n",
    "min_child_weight = [0.00001, 0.0001]\n",
    "reg_alpha = [0.0001, 0.001]\n",
    "\n",
    "\n",
    "# Create the random grid\n",
    "random_grid = {'n_estimators': n_estimators, 'boosting_type': boosting_type, 'min_child_samples': min_child_samples, 'min_child_weight': min_child_weight, 'reg_alpha': reg_alpha}\n",
    "\n",
    "pprint(random_grid)"
   ]
  },
  {
   "cell_type": "markdown",
   "metadata": {},
   "source": [
    "### Random Search Training"
   ]
  },
  {
   "cell_type": "code",
   "execution_count": 10,
   "metadata": {},
   "outputs": [],
   "source": [
    "# Random search of parameters, using 3 fold cross validation, \n",
    "# search across 100 different combinations, and use all available cores\n",
    "\n",
    "lgbm_random = RandomizedSearchCV(estimator = lgbm, param_distributions = random_grid, scoring = 'neg_mean_squared_error', n_iter = 100, cv = 5, verbose = 2, random_state = 42, n_jobs = 1)"
   ]
  },
  {
   "cell_type": "markdown",
   "metadata": {},
   "source": [
    "#### How much time it may take?"
   ]
  },
  {
   "cell_type": "code",
   "execution_count": 11,
   "metadata": {},
   "outputs": [],
   "source": [
    "def timer(start_time = None):\n",
    "    \n",
    "    if not start_time:\n",
    "        start_time = datetime.now()\n",
    "        return start_time\n",
    "    elif start_time:\n",
    "        thour, temp_sec = divmod((datetime.now() - start_time).total_seconds(), 3600)\n",
    "        tmin, tsec = divmod(temp_sec, 60)\n",
    "        print('\\n Time taken: %i hours %i minutes and %s seconds.' % (thour, tmin, round(tsec, 2)))"
   ]
  },
  {
   "cell_type": "markdown",
   "metadata": {},
   "source": [
    "### Fit the model"
   ]
  },
  {
   "cell_type": "code",
   "execution_count": 12,
   "metadata": {},
   "outputs": [
    {
     "name": "stderr",
     "output_type": "stream",
     "text": [
      "[Parallel(n_jobs=1)]: Using backend SequentialBackend with 1 concurrent workers.\n",
      "[Parallel(n_jobs=1)]: Done   1 out of   1 | elapsed:    0.0s remaining:    0.0s\n"
     ]
    },
    {
     "name": "stdout",
     "output_type": "stream",
     "text": [
      "Fitting 5 folds for each of 24 candidates, totalling 120 fits\n",
      "[CV] reg_alpha=0.0001, n_estimators=50, min_child_weight=1e-05, min_child_samples=20, boosting_type=gbdt \n",
      "[CV]  reg_alpha=0.0001, n_estimators=50, min_child_weight=1e-05, min_child_samples=20, boosting_type=gbdt, total=   0.1s\n",
      "[CV] reg_alpha=0.0001, n_estimators=50, min_child_weight=1e-05, min_child_samples=20, boosting_type=gbdt \n",
      "[CV]  reg_alpha=0.0001, n_estimators=50, min_child_weight=1e-05, min_child_samples=20, boosting_type=gbdt, total=   0.1s\n",
      "[CV] reg_alpha=0.0001, n_estimators=50, min_child_weight=1e-05, min_child_samples=20, boosting_type=gbdt \n",
      "[CV]  reg_alpha=0.0001, n_estimators=50, min_child_weight=1e-05, min_child_samples=20, boosting_type=gbdt, total=   0.1s\n",
      "[CV] reg_alpha=0.0001, n_estimators=50, min_child_weight=1e-05, min_child_samples=20, boosting_type=gbdt \n",
      "[CV]  reg_alpha=0.0001, n_estimators=50, min_child_weight=1e-05, min_child_samples=20, boosting_type=gbdt, total=   0.1s\n",
      "[CV] reg_alpha=0.0001, n_estimators=50, min_child_weight=1e-05, min_child_samples=20, boosting_type=gbdt \n",
      "[CV]  reg_alpha=0.0001, n_estimators=50, min_child_weight=1e-05, min_child_samples=20, boosting_type=gbdt, total=   0.1s\n",
      "[CV] reg_alpha=0.001, n_estimators=50, min_child_weight=1e-05, min_child_samples=20, boosting_type=gbdt \n",
      "[CV]  reg_alpha=0.001, n_estimators=50, min_child_weight=1e-05, min_child_samples=20, boosting_type=gbdt, total=   0.1s\n",
      "[CV] reg_alpha=0.001, n_estimators=50, min_child_weight=1e-05, min_child_samples=20, boosting_type=gbdt \n",
      "[CV]  reg_alpha=0.001, n_estimators=50, min_child_weight=1e-05, min_child_samples=20, boosting_type=gbdt, total=   0.1s\n",
      "[CV] reg_alpha=0.001, n_estimators=50, min_child_weight=1e-05, min_child_samples=20, boosting_type=gbdt \n",
      "[CV]  reg_alpha=0.001, n_estimators=50, min_child_weight=1e-05, min_child_samples=20, boosting_type=gbdt, total=   0.1s\n",
      "[CV] reg_alpha=0.001, n_estimators=50, min_child_weight=1e-05, min_child_samples=20, boosting_type=gbdt \n",
      "[CV]  reg_alpha=0.001, n_estimators=50, min_child_weight=1e-05, min_child_samples=20, boosting_type=gbdt, total=   0.1s\n",
      "[CV] reg_alpha=0.001, n_estimators=50, min_child_weight=1e-05, min_child_samples=20, boosting_type=gbdt \n",
      "[CV]  reg_alpha=0.001, n_estimators=50, min_child_weight=1e-05, min_child_samples=20, boosting_type=gbdt, total=   0.1s\n",
      "[CV] reg_alpha=0.0001, n_estimators=50, min_child_weight=0.0001, min_child_samples=20, boosting_type=gbdt \n",
      "[CV]  reg_alpha=0.0001, n_estimators=50, min_child_weight=0.0001, min_child_samples=20, boosting_type=gbdt, total=   0.1s\n",
      "[CV] reg_alpha=0.0001, n_estimators=50, min_child_weight=0.0001, min_child_samples=20, boosting_type=gbdt \n",
      "[CV]  reg_alpha=0.0001, n_estimators=50, min_child_weight=0.0001, min_child_samples=20, boosting_type=gbdt, total=   0.1s\n",
      "[CV] reg_alpha=0.0001, n_estimators=50, min_child_weight=0.0001, min_child_samples=20, boosting_type=gbdt \n",
      "[CV]  reg_alpha=0.0001, n_estimators=50, min_child_weight=0.0001, min_child_samples=20, boosting_type=gbdt, total=   0.1s\n",
      "[CV] reg_alpha=0.0001, n_estimators=50, min_child_weight=0.0001, min_child_samples=20, boosting_type=gbdt \n",
      "[CV]  reg_alpha=0.0001, n_estimators=50, min_child_weight=0.0001, min_child_samples=20, boosting_type=gbdt, total=   0.1s\n",
      "[CV] reg_alpha=0.0001, n_estimators=50, min_child_weight=0.0001, min_child_samples=20, boosting_type=gbdt \n",
      "[CV]  reg_alpha=0.0001, n_estimators=50, min_child_weight=0.0001, min_child_samples=20, boosting_type=gbdt, total=   0.1s\n",
      "[CV] reg_alpha=0.001, n_estimators=50, min_child_weight=0.0001, min_child_samples=20, boosting_type=gbdt \n",
      "[CV]  reg_alpha=0.001, n_estimators=50, min_child_weight=0.0001, min_child_samples=20, boosting_type=gbdt, total=   0.1s\n",
      "[CV] reg_alpha=0.001, n_estimators=50, min_child_weight=0.0001, min_child_samples=20, boosting_type=gbdt \n",
      "[CV]  reg_alpha=0.001, n_estimators=50, min_child_weight=0.0001, min_child_samples=20, boosting_type=gbdt, total=   0.1s\n",
      "[CV] reg_alpha=0.001, n_estimators=50, min_child_weight=0.0001, min_child_samples=20, boosting_type=gbdt \n",
      "[CV]  reg_alpha=0.001, n_estimators=50, min_child_weight=0.0001, min_child_samples=20, boosting_type=gbdt, total=   0.1s\n",
      "[CV] reg_alpha=0.001, n_estimators=50, min_child_weight=0.0001, min_child_samples=20, boosting_type=gbdt \n",
      "[CV]  reg_alpha=0.001, n_estimators=50, min_child_weight=0.0001, min_child_samples=20, boosting_type=gbdt, total=   0.1s\n",
      "[CV] reg_alpha=0.001, n_estimators=50, min_child_weight=0.0001, min_child_samples=20, boosting_type=gbdt \n",
      "[CV]  reg_alpha=0.001, n_estimators=50, min_child_weight=0.0001, min_child_samples=20, boosting_type=gbdt, total=   0.1s\n",
      "[CV] reg_alpha=0.0001, n_estimators=50, min_child_weight=1e-05, min_child_samples=30, boosting_type=gbdt \n",
      "[CV]  reg_alpha=0.0001, n_estimators=50, min_child_weight=1e-05, min_child_samples=30, boosting_type=gbdt, total=   0.1s\n",
      "[CV] reg_alpha=0.0001, n_estimators=50, min_child_weight=1e-05, min_child_samples=30, boosting_type=gbdt \n",
      "[CV]  reg_alpha=0.0001, n_estimators=50, min_child_weight=1e-05, min_child_samples=30, boosting_type=gbdt, total=   0.1s\n",
      "[CV] reg_alpha=0.0001, n_estimators=50, min_child_weight=1e-05, min_child_samples=30, boosting_type=gbdt \n",
      "[CV]  reg_alpha=0.0001, n_estimators=50, min_child_weight=1e-05, min_child_samples=30, boosting_type=gbdt, total=   0.1s\n",
      "[CV] reg_alpha=0.0001, n_estimators=50, min_child_weight=1e-05, min_child_samples=30, boosting_type=gbdt \n",
      "[CV]  reg_alpha=0.0001, n_estimators=50, min_child_weight=1e-05, min_child_samples=30, boosting_type=gbdt, total=   0.1s\n",
      "[CV] reg_alpha=0.0001, n_estimators=50, min_child_weight=1e-05, min_child_samples=30, boosting_type=gbdt \n",
      "[CV]  reg_alpha=0.0001, n_estimators=50, min_child_weight=1e-05, min_child_samples=30, boosting_type=gbdt, total=   0.1s\n",
      "[CV] reg_alpha=0.001, n_estimators=50, min_child_weight=1e-05, min_child_samples=30, boosting_type=gbdt \n",
      "[CV]  reg_alpha=0.001, n_estimators=50, min_child_weight=1e-05, min_child_samples=30, boosting_type=gbdt, total=   0.1s\n",
      "[CV] reg_alpha=0.001, n_estimators=50, min_child_weight=1e-05, min_child_samples=30, boosting_type=gbdt \n",
      "[CV]  reg_alpha=0.001, n_estimators=50, min_child_weight=1e-05, min_child_samples=30, boosting_type=gbdt, total=   0.1s\n",
      "[CV] reg_alpha=0.001, n_estimators=50, min_child_weight=1e-05, min_child_samples=30, boosting_type=gbdt \n",
      "[CV]  reg_alpha=0.001, n_estimators=50, min_child_weight=1e-05, min_child_samples=30, boosting_type=gbdt, total=   0.1s\n",
      "[CV] reg_alpha=0.001, n_estimators=50, min_child_weight=1e-05, min_child_samples=30, boosting_type=gbdt \n",
      "[CV]  reg_alpha=0.001, n_estimators=50, min_child_weight=1e-05, min_child_samples=30, boosting_type=gbdt, total=   0.1s\n",
      "[CV] reg_alpha=0.001, n_estimators=50, min_child_weight=1e-05, min_child_samples=30, boosting_type=gbdt \n",
      "[CV]  reg_alpha=0.001, n_estimators=50, min_child_weight=1e-05, min_child_samples=30, boosting_type=gbdt, total=   0.1s\n",
      "[CV] reg_alpha=0.0001, n_estimators=50, min_child_weight=0.0001, min_child_samples=30, boosting_type=gbdt \n",
      "[CV]  reg_alpha=0.0001, n_estimators=50, min_child_weight=0.0001, min_child_samples=30, boosting_type=gbdt, total=   0.1s\n",
      "[CV] reg_alpha=0.0001, n_estimators=50, min_child_weight=0.0001, min_child_samples=30, boosting_type=gbdt \n",
      "[CV]  reg_alpha=0.0001, n_estimators=50, min_child_weight=0.0001, min_child_samples=30, boosting_type=gbdt, total=   0.1s\n",
      "[CV] reg_alpha=0.0001, n_estimators=50, min_child_weight=0.0001, min_child_samples=30, boosting_type=gbdt \n",
      "[CV]  reg_alpha=0.0001, n_estimators=50, min_child_weight=0.0001, min_child_samples=30, boosting_type=gbdt, total=   0.1s\n",
      "[CV] reg_alpha=0.0001, n_estimators=50, min_child_weight=0.0001, min_child_samples=30, boosting_type=gbdt \n",
      "[CV]  reg_alpha=0.0001, n_estimators=50, min_child_weight=0.0001, min_child_samples=30, boosting_type=gbdt, total=   0.1s\n",
      "[CV] reg_alpha=0.0001, n_estimators=50, min_child_weight=0.0001, min_child_samples=30, boosting_type=gbdt \n",
      "[CV]  reg_alpha=0.0001, n_estimators=50, min_child_weight=0.0001, min_child_samples=30, boosting_type=gbdt, total=   0.1s\n",
      "[CV] reg_alpha=0.001, n_estimators=50, min_child_weight=0.0001, min_child_samples=30, boosting_type=gbdt \n",
      "[CV]  reg_alpha=0.001, n_estimators=50, min_child_weight=0.0001, min_child_samples=30, boosting_type=gbdt, total=   0.1s\n",
      "[CV] reg_alpha=0.001, n_estimators=50, min_child_weight=0.0001, min_child_samples=30, boosting_type=gbdt \n",
      "[CV]  reg_alpha=0.001, n_estimators=50, min_child_weight=0.0001, min_child_samples=30, boosting_type=gbdt, total=   0.0s\n",
      "[CV] reg_alpha=0.001, n_estimators=50, min_child_weight=0.0001, min_child_samples=30, boosting_type=gbdt \n",
      "[CV]  reg_alpha=0.001, n_estimators=50, min_child_weight=0.0001, min_child_samples=30, boosting_type=gbdt, total=   0.1s\n",
      "[CV] reg_alpha=0.001, n_estimators=50, min_child_weight=0.0001, min_child_samples=30, boosting_type=gbdt \n",
      "[CV]  reg_alpha=0.001, n_estimators=50, min_child_weight=0.0001, min_child_samples=30, boosting_type=gbdt, total=   0.0s\n",
      "[CV] reg_alpha=0.001, n_estimators=50, min_child_weight=0.0001, min_child_samples=30, boosting_type=gbdt \n",
      "[CV]  reg_alpha=0.001, n_estimators=50, min_child_weight=0.0001, min_child_samples=30, boosting_type=gbdt, total=   0.0s\n",
      "[CV] reg_alpha=0.0001, n_estimators=50, min_child_weight=1e-05, min_child_samples=50, boosting_type=gbdt \n",
      "[CV]  reg_alpha=0.0001, n_estimators=50, min_child_weight=1e-05, min_child_samples=50, boosting_type=gbdt, total=   0.0s\n",
      "[CV] reg_alpha=0.0001, n_estimators=50, min_child_weight=1e-05, min_child_samples=50, boosting_type=gbdt \n",
      "[CV]  reg_alpha=0.0001, n_estimators=50, min_child_weight=1e-05, min_child_samples=50, boosting_type=gbdt, total=   0.0s\n",
      "[CV] reg_alpha=0.0001, n_estimators=50, min_child_weight=1e-05, min_child_samples=50, boosting_type=gbdt \n",
      "[CV]  reg_alpha=0.0001, n_estimators=50, min_child_weight=1e-05, min_child_samples=50, boosting_type=gbdt, total=   0.0s\n",
      "[CV] reg_alpha=0.0001, n_estimators=50, min_child_weight=1e-05, min_child_samples=50, boosting_type=gbdt \n",
      "[CV]  reg_alpha=0.0001, n_estimators=50, min_child_weight=1e-05, min_child_samples=50, boosting_type=gbdt, total=   0.0s\n",
      "[CV] reg_alpha=0.0001, n_estimators=50, min_child_weight=1e-05, min_child_samples=50, boosting_type=gbdt \n",
      "[CV]  reg_alpha=0.0001, n_estimators=50, min_child_weight=1e-05, min_child_samples=50, boosting_type=gbdt, total=   0.0s\n",
      "[CV] reg_alpha=0.001, n_estimators=50, min_child_weight=1e-05, min_child_samples=50, boosting_type=gbdt \n",
      "[CV]  reg_alpha=0.001, n_estimators=50, min_child_weight=1e-05, min_child_samples=50, boosting_type=gbdt, total=   0.0s\n",
      "[CV] reg_alpha=0.001, n_estimators=50, min_child_weight=1e-05, min_child_samples=50, boosting_type=gbdt \n",
      "[CV]  reg_alpha=0.001, n_estimators=50, min_child_weight=1e-05, min_child_samples=50, boosting_type=gbdt, total=   0.1s\n",
      "[CV] reg_alpha=0.001, n_estimators=50, min_child_weight=1e-05, min_child_samples=50, boosting_type=gbdt \n",
      "[CV]  reg_alpha=0.001, n_estimators=50, min_child_weight=1e-05, min_child_samples=50, boosting_type=gbdt, total=   0.0s\n",
      "[CV] reg_alpha=0.001, n_estimators=50, min_child_weight=1e-05, min_child_samples=50, boosting_type=gbdt \n",
      "[CV]  reg_alpha=0.001, n_estimators=50, min_child_weight=1e-05, min_child_samples=50, boosting_type=gbdt, total=   0.0s\n",
      "[CV] reg_alpha=0.001, n_estimators=50, min_child_weight=1e-05, min_child_samples=50, boosting_type=gbdt \n",
      "[CV]  reg_alpha=0.001, n_estimators=50, min_child_weight=1e-05, min_child_samples=50, boosting_type=gbdt, total=   0.0s\n",
      "[CV] reg_alpha=0.0001, n_estimators=50, min_child_weight=0.0001, min_child_samples=50, boosting_type=gbdt \n",
      "[CV]  reg_alpha=0.0001, n_estimators=50, min_child_weight=0.0001, min_child_samples=50, boosting_type=gbdt, total=   0.0s\n",
      "[CV] reg_alpha=0.0001, n_estimators=50, min_child_weight=0.0001, min_child_samples=50, boosting_type=gbdt \n",
      "[CV]  reg_alpha=0.0001, n_estimators=50, min_child_weight=0.0001, min_child_samples=50, boosting_type=gbdt, total=   0.0s\n",
      "[CV] reg_alpha=0.0001, n_estimators=50, min_child_weight=0.0001, min_child_samples=50, boosting_type=gbdt \n",
      "[CV]  reg_alpha=0.0001, n_estimators=50, min_child_weight=0.0001, min_child_samples=50, boosting_type=gbdt, total=   0.0s\n",
      "[CV] reg_alpha=0.0001, n_estimators=50, min_child_weight=0.0001, min_child_samples=50, boosting_type=gbdt \n",
      "[CV]  reg_alpha=0.0001, n_estimators=50, min_child_weight=0.0001, min_child_samples=50, boosting_type=gbdt, total=   0.0s\n",
      "[CV] reg_alpha=0.0001, n_estimators=50, min_child_weight=0.0001, min_child_samples=50, boosting_type=gbdt \n",
      "[CV]  reg_alpha=0.0001, n_estimators=50, min_child_weight=0.0001, min_child_samples=50, boosting_type=gbdt, total=   0.0s\n",
      "[CV] reg_alpha=0.001, n_estimators=50, min_child_weight=0.0001, min_child_samples=50, boosting_type=gbdt \n",
      "[CV]  reg_alpha=0.001, n_estimators=50, min_child_weight=0.0001, min_child_samples=50, boosting_type=gbdt, total=   0.0s\n",
      "[CV] reg_alpha=0.001, n_estimators=50, min_child_weight=0.0001, min_child_samples=50, boosting_type=gbdt \n",
      "[CV]  reg_alpha=0.001, n_estimators=50, min_child_weight=0.0001, min_child_samples=50, boosting_type=gbdt, total=   0.0s\n",
      "[CV] reg_alpha=0.001, n_estimators=50, min_child_weight=0.0001, min_child_samples=50, boosting_type=gbdt \n",
      "[CV]  reg_alpha=0.001, n_estimators=50, min_child_weight=0.0001, min_child_samples=50, boosting_type=gbdt, total=   0.0s\n",
      "[CV] reg_alpha=0.001, n_estimators=50, min_child_weight=0.0001, min_child_samples=50, boosting_type=gbdt \n",
      "[CV]  reg_alpha=0.001, n_estimators=50, min_child_weight=0.0001, min_child_samples=50, boosting_type=gbdt, total=   0.0s\n",
      "[CV] reg_alpha=0.001, n_estimators=50, min_child_weight=0.0001, min_child_samples=50, boosting_type=gbdt \n",
      "[CV]  reg_alpha=0.001, n_estimators=50, min_child_weight=0.0001, min_child_samples=50, boosting_type=gbdt, total=   0.0s\n",
      "[CV] reg_alpha=0.0001, n_estimators=50, min_child_weight=1e-05, min_child_samples=20, boosting_type=goss \n",
      "[CV]  reg_alpha=0.0001, n_estimators=50, min_child_weight=1e-05, min_child_samples=20, boosting_type=goss, total=   0.0s\n",
      "[CV] reg_alpha=0.0001, n_estimators=50, min_child_weight=1e-05, min_child_samples=20, boosting_type=goss \n",
      "[CV]  reg_alpha=0.0001, n_estimators=50, min_child_weight=1e-05, min_child_samples=20, boosting_type=goss, total=   0.0s\n",
      "[CV] reg_alpha=0.0001, n_estimators=50, min_child_weight=1e-05, min_child_samples=20, boosting_type=goss \n",
      "[CV]  reg_alpha=0.0001, n_estimators=50, min_child_weight=1e-05, min_child_samples=20, boosting_type=goss, total=   0.0s\n",
      "[CV] reg_alpha=0.0001, n_estimators=50, min_child_weight=1e-05, min_child_samples=20, boosting_type=goss \n",
      "[CV]  reg_alpha=0.0001, n_estimators=50, min_child_weight=1e-05, min_child_samples=20, boosting_type=goss, total=   0.0s\n",
      "[CV] reg_alpha=0.0001, n_estimators=50, min_child_weight=1e-05, min_child_samples=20, boosting_type=goss \n",
      "[CV]  reg_alpha=0.0001, n_estimators=50, min_child_weight=1e-05, min_child_samples=20, boosting_type=goss, total=   0.0s\n",
      "[CV] reg_alpha=0.001, n_estimators=50, min_child_weight=1e-05, min_child_samples=20, boosting_type=goss \n",
      "[CV]  reg_alpha=0.001, n_estimators=50, min_child_weight=1e-05, min_child_samples=20, boosting_type=goss, total=   0.0s\n",
      "[CV] reg_alpha=0.001, n_estimators=50, min_child_weight=1e-05, min_child_samples=20, boosting_type=goss \n",
      "[CV]  reg_alpha=0.001, n_estimators=50, min_child_weight=1e-05, min_child_samples=20, boosting_type=goss, total=   0.0s\n",
      "[CV] reg_alpha=0.001, n_estimators=50, min_child_weight=1e-05, min_child_samples=20, boosting_type=goss \n",
      "[CV]  reg_alpha=0.001, n_estimators=50, min_child_weight=1e-05, min_child_samples=20, boosting_type=goss, total=   0.0s\n",
      "[CV] reg_alpha=0.001, n_estimators=50, min_child_weight=1e-05, min_child_samples=20, boosting_type=goss \n",
      "[CV]  reg_alpha=0.001, n_estimators=50, min_child_weight=1e-05, min_child_samples=20, boosting_type=goss, total=   0.0s\n",
      "[CV] reg_alpha=0.001, n_estimators=50, min_child_weight=1e-05, min_child_samples=20, boosting_type=goss \n",
      "[CV]  reg_alpha=0.001, n_estimators=50, min_child_weight=1e-05, min_child_samples=20, boosting_type=goss, total=   0.0s\n",
      "[CV] reg_alpha=0.0001, n_estimators=50, min_child_weight=0.0001, min_child_samples=20, boosting_type=goss \n",
      "[CV]  reg_alpha=0.0001, n_estimators=50, min_child_weight=0.0001, min_child_samples=20, boosting_type=goss, total=   0.0s\n",
      "[CV] reg_alpha=0.0001, n_estimators=50, min_child_weight=0.0001, min_child_samples=20, boosting_type=goss \n",
      "[CV]  reg_alpha=0.0001, n_estimators=50, min_child_weight=0.0001, min_child_samples=20, boosting_type=goss, total=   0.0s\n",
      "[CV] reg_alpha=0.0001, n_estimators=50, min_child_weight=0.0001, min_child_samples=20, boosting_type=goss \n",
      "[CV]  reg_alpha=0.0001, n_estimators=50, min_child_weight=0.0001, min_child_samples=20, boosting_type=goss, total=   0.0s\n",
      "[CV] reg_alpha=0.0001, n_estimators=50, min_child_weight=0.0001, min_child_samples=20, boosting_type=goss \n",
      "[CV]  reg_alpha=0.0001, n_estimators=50, min_child_weight=0.0001, min_child_samples=20, boosting_type=goss, total=   0.0s\n",
      "[CV] reg_alpha=0.0001, n_estimators=50, min_child_weight=0.0001, min_child_samples=20, boosting_type=goss \n",
      "[CV]  reg_alpha=0.0001, n_estimators=50, min_child_weight=0.0001, min_child_samples=20, boosting_type=goss, total=   0.0s\n",
      "[CV] reg_alpha=0.001, n_estimators=50, min_child_weight=0.0001, min_child_samples=20, boosting_type=goss \n",
      "[CV]  reg_alpha=0.001, n_estimators=50, min_child_weight=0.0001, min_child_samples=20, boosting_type=goss, total=   0.0s\n",
      "[CV] reg_alpha=0.001, n_estimators=50, min_child_weight=0.0001, min_child_samples=20, boosting_type=goss \n",
      "[CV]  reg_alpha=0.001, n_estimators=50, min_child_weight=0.0001, min_child_samples=20, boosting_type=goss, total=   0.0s\n",
      "[CV] reg_alpha=0.001, n_estimators=50, min_child_weight=0.0001, min_child_samples=20, boosting_type=goss \n",
      "[CV]  reg_alpha=0.001, n_estimators=50, min_child_weight=0.0001, min_child_samples=20, boosting_type=goss, total=   0.0s\n",
      "[CV] reg_alpha=0.001, n_estimators=50, min_child_weight=0.0001, min_child_samples=20, boosting_type=goss \n",
      "[CV]  reg_alpha=0.001, n_estimators=50, min_child_weight=0.0001, min_child_samples=20, boosting_type=goss, total=   0.0s\n",
      "[CV] reg_alpha=0.001, n_estimators=50, min_child_weight=0.0001, min_child_samples=20, boosting_type=goss \n",
      "[CV]  reg_alpha=0.001, n_estimators=50, min_child_weight=0.0001, min_child_samples=20, boosting_type=goss, total=   0.0s\n",
      "[CV] reg_alpha=0.0001, n_estimators=50, min_child_weight=1e-05, min_child_samples=30, boosting_type=goss \n",
      "[CV]  reg_alpha=0.0001, n_estimators=50, min_child_weight=1e-05, min_child_samples=30, boosting_type=goss, total=   0.0s\n",
      "[CV] reg_alpha=0.0001, n_estimators=50, min_child_weight=1e-05, min_child_samples=30, boosting_type=goss \n",
      "[CV]  reg_alpha=0.0001, n_estimators=50, min_child_weight=1e-05, min_child_samples=30, boosting_type=goss, total=   0.0s\n",
      "[CV] reg_alpha=0.0001, n_estimators=50, min_child_weight=1e-05, min_child_samples=30, boosting_type=goss \n",
      "[CV]  reg_alpha=0.0001, n_estimators=50, min_child_weight=1e-05, min_child_samples=30, boosting_type=goss, total=   0.0s\n",
      "[CV] reg_alpha=0.0001, n_estimators=50, min_child_weight=1e-05, min_child_samples=30, boosting_type=goss \n",
      "[CV]  reg_alpha=0.0001, n_estimators=50, min_child_weight=1e-05, min_child_samples=30, boosting_type=goss, total=   0.0s\n",
      "[CV] reg_alpha=0.0001, n_estimators=50, min_child_weight=1e-05, min_child_samples=30, boosting_type=goss \n",
      "[CV]  reg_alpha=0.0001, n_estimators=50, min_child_weight=1e-05, min_child_samples=30, boosting_type=goss, total=   0.0s\n",
      "[CV] reg_alpha=0.001, n_estimators=50, min_child_weight=1e-05, min_child_samples=30, boosting_type=goss \n",
      "[CV]  reg_alpha=0.001, n_estimators=50, min_child_weight=1e-05, min_child_samples=30, boosting_type=goss, total=   0.0s\n",
      "[CV] reg_alpha=0.001, n_estimators=50, min_child_weight=1e-05, min_child_samples=30, boosting_type=goss \n",
      "[CV]  reg_alpha=0.001, n_estimators=50, min_child_weight=1e-05, min_child_samples=30, boosting_type=goss, total=   0.0s\n",
      "[CV] reg_alpha=0.001, n_estimators=50, min_child_weight=1e-05, min_child_samples=30, boosting_type=goss \n",
      "[CV]  reg_alpha=0.001, n_estimators=50, min_child_weight=1e-05, min_child_samples=30, boosting_type=goss, total=   0.0s\n",
      "[CV] reg_alpha=0.001, n_estimators=50, min_child_weight=1e-05, min_child_samples=30, boosting_type=goss \n",
      "[CV]  reg_alpha=0.001, n_estimators=50, min_child_weight=1e-05, min_child_samples=30, boosting_type=goss, total=   0.0s\n",
      "[CV] reg_alpha=0.001, n_estimators=50, min_child_weight=1e-05, min_child_samples=30, boosting_type=goss \n",
      "[CV]  reg_alpha=0.001, n_estimators=50, min_child_weight=1e-05, min_child_samples=30, boosting_type=goss, total=   0.0s\n",
      "[CV] reg_alpha=0.0001, n_estimators=50, min_child_weight=0.0001, min_child_samples=30, boosting_type=goss \n",
      "[CV]  reg_alpha=0.0001, n_estimators=50, min_child_weight=0.0001, min_child_samples=30, boosting_type=goss, total=   0.0s\n",
      "[CV] reg_alpha=0.0001, n_estimators=50, min_child_weight=0.0001, min_child_samples=30, boosting_type=goss \n",
      "[CV]  reg_alpha=0.0001, n_estimators=50, min_child_weight=0.0001, min_child_samples=30, boosting_type=goss, total=   0.0s\n",
      "[CV] reg_alpha=0.0001, n_estimators=50, min_child_weight=0.0001, min_child_samples=30, boosting_type=goss \n",
      "[CV]  reg_alpha=0.0001, n_estimators=50, min_child_weight=0.0001, min_child_samples=30, boosting_type=goss, total=   0.0s\n",
      "[CV] reg_alpha=0.0001, n_estimators=50, min_child_weight=0.0001, min_child_samples=30, boosting_type=goss \n",
      "[CV]  reg_alpha=0.0001, n_estimators=50, min_child_weight=0.0001, min_child_samples=30, boosting_type=goss, total=   0.0s\n",
      "[CV] reg_alpha=0.0001, n_estimators=50, min_child_weight=0.0001, min_child_samples=30, boosting_type=goss \n",
      "[CV]  reg_alpha=0.0001, n_estimators=50, min_child_weight=0.0001, min_child_samples=30, boosting_type=goss, total=   0.0s\n",
      "[CV] reg_alpha=0.001, n_estimators=50, min_child_weight=0.0001, min_child_samples=30, boosting_type=goss \n",
      "[CV]  reg_alpha=0.001, n_estimators=50, min_child_weight=0.0001, min_child_samples=30, boosting_type=goss, total=   0.0s\n",
      "[CV] reg_alpha=0.001, n_estimators=50, min_child_weight=0.0001, min_child_samples=30, boosting_type=goss \n",
      "[CV]  reg_alpha=0.001, n_estimators=50, min_child_weight=0.0001, min_child_samples=30, boosting_type=goss, total=   0.0s\n",
      "[CV] reg_alpha=0.001, n_estimators=50, min_child_weight=0.0001, min_child_samples=30, boosting_type=goss \n",
      "[CV]  reg_alpha=0.001, n_estimators=50, min_child_weight=0.0001, min_child_samples=30, boosting_type=goss, total=   0.0s\n",
      "[CV] reg_alpha=0.001, n_estimators=50, min_child_weight=0.0001, min_child_samples=30, boosting_type=goss \n",
      "[CV]  reg_alpha=0.001, n_estimators=50, min_child_weight=0.0001, min_child_samples=30, boosting_type=goss, total=   0.0s\n",
      "[CV] reg_alpha=0.001, n_estimators=50, min_child_weight=0.0001, min_child_samples=30, boosting_type=goss \n",
      "[CV]  reg_alpha=0.001, n_estimators=50, min_child_weight=0.0001, min_child_samples=30, boosting_type=goss, total=   0.0s\n",
      "[CV] reg_alpha=0.0001, n_estimators=50, min_child_weight=1e-05, min_child_samples=50, boosting_type=goss \n",
      "[CV]  reg_alpha=0.0001, n_estimators=50, min_child_weight=1e-05, min_child_samples=50, boosting_type=goss, total=   0.0s\n",
      "[CV] reg_alpha=0.0001, n_estimators=50, min_child_weight=1e-05, min_child_samples=50, boosting_type=goss \n",
      "[CV]  reg_alpha=0.0001, n_estimators=50, min_child_weight=1e-05, min_child_samples=50, boosting_type=goss, total=   0.0s\n",
      "[CV] reg_alpha=0.0001, n_estimators=50, min_child_weight=1e-05, min_child_samples=50, boosting_type=goss \n",
      "[CV]  reg_alpha=0.0001, n_estimators=50, min_child_weight=1e-05, min_child_samples=50, boosting_type=goss, total=   0.0s\n",
      "[CV] reg_alpha=0.0001, n_estimators=50, min_child_weight=1e-05, min_child_samples=50, boosting_type=goss \n",
      "[CV]  reg_alpha=0.0001, n_estimators=50, min_child_weight=1e-05, min_child_samples=50, boosting_type=goss, total=   0.0s\n",
      "[CV] reg_alpha=0.0001, n_estimators=50, min_child_weight=1e-05, min_child_samples=50, boosting_type=goss \n",
      "[CV]  reg_alpha=0.0001, n_estimators=50, min_child_weight=1e-05, min_child_samples=50, boosting_type=goss, total=   0.0s\n",
      "[CV] reg_alpha=0.001, n_estimators=50, min_child_weight=1e-05, min_child_samples=50, boosting_type=goss \n",
      "[CV]  reg_alpha=0.001, n_estimators=50, min_child_weight=1e-05, min_child_samples=50, boosting_type=goss, total=   0.0s\n",
      "[CV] reg_alpha=0.001, n_estimators=50, min_child_weight=1e-05, min_child_samples=50, boosting_type=goss \n",
      "[CV]  reg_alpha=0.001, n_estimators=50, min_child_weight=1e-05, min_child_samples=50, boosting_type=goss, total=   0.0s\n",
      "[CV] reg_alpha=0.001, n_estimators=50, min_child_weight=1e-05, min_child_samples=50, boosting_type=goss \n",
      "[CV]  reg_alpha=0.001, n_estimators=50, min_child_weight=1e-05, min_child_samples=50, boosting_type=goss, total=   0.0s\n",
      "[CV] reg_alpha=0.001, n_estimators=50, min_child_weight=1e-05, min_child_samples=50, boosting_type=goss \n",
      "[CV]  reg_alpha=0.001, n_estimators=50, min_child_weight=1e-05, min_child_samples=50, boosting_type=goss, total=   0.0s\n",
      "[CV] reg_alpha=0.001, n_estimators=50, min_child_weight=1e-05, min_child_samples=50, boosting_type=goss \n",
      "[CV]  reg_alpha=0.001, n_estimators=50, min_child_weight=1e-05, min_child_samples=50, boosting_type=goss, total=   0.0s\n",
      "[CV] reg_alpha=0.0001, n_estimators=50, min_child_weight=0.0001, min_child_samples=50, boosting_type=goss \n",
      "[CV]  reg_alpha=0.0001, n_estimators=50, min_child_weight=0.0001, min_child_samples=50, boosting_type=goss, total=   0.0s\n",
      "[CV] reg_alpha=0.0001, n_estimators=50, min_child_weight=0.0001, min_child_samples=50, boosting_type=goss \n",
      "[CV]  reg_alpha=0.0001, n_estimators=50, min_child_weight=0.0001, min_child_samples=50, boosting_type=goss, total=   0.0s\n",
      "[CV] reg_alpha=0.0001, n_estimators=50, min_child_weight=0.0001, min_child_samples=50, boosting_type=goss \n",
      "[CV]  reg_alpha=0.0001, n_estimators=50, min_child_weight=0.0001, min_child_samples=50, boosting_type=goss, total=   0.0s\n",
      "[CV] reg_alpha=0.0001, n_estimators=50, min_child_weight=0.0001, min_child_samples=50, boosting_type=goss \n",
      "[CV]  reg_alpha=0.0001, n_estimators=50, min_child_weight=0.0001, min_child_samples=50, boosting_type=goss, total=   0.0s\n",
      "[CV] reg_alpha=0.0001, n_estimators=50, min_child_weight=0.0001, min_child_samples=50, boosting_type=goss \n",
      "[CV]  reg_alpha=0.0001, n_estimators=50, min_child_weight=0.0001, min_child_samples=50, boosting_type=goss, total=   0.0s\n",
      "[CV] reg_alpha=0.001, n_estimators=50, min_child_weight=0.0001, min_child_samples=50, boosting_type=goss \n",
      "[CV]  reg_alpha=0.001, n_estimators=50, min_child_weight=0.0001, min_child_samples=50, boosting_type=goss, total=   0.0s\n",
      "[CV] reg_alpha=0.001, n_estimators=50, min_child_weight=0.0001, min_child_samples=50, boosting_type=goss \n",
      "[CV]  reg_alpha=0.001, n_estimators=50, min_child_weight=0.0001, min_child_samples=50, boosting_type=goss, total=   0.0s\n",
      "[CV] reg_alpha=0.001, n_estimators=50, min_child_weight=0.0001, min_child_samples=50, boosting_type=goss \n",
      "[CV]  reg_alpha=0.001, n_estimators=50, min_child_weight=0.0001, min_child_samples=50, boosting_type=goss, total=   0.0s\n",
      "[CV] reg_alpha=0.001, n_estimators=50, min_child_weight=0.0001, min_child_samples=50, boosting_type=goss \n",
      "[CV]  reg_alpha=0.001, n_estimators=50, min_child_weight=0.0001, min_child_samples=50, boosting_type=goss, total=   0.0s\n",
      "[CV] reg_alpha=0.001, n_estimators=50, min_child_weight=0.0001, min_child_samples=50, boosting_type=goss \n",
      "[CV]  reg_alpha=0.001, n_estimators=50, min_child_weight=0.0001, min_child_samples=50, boosting_type=goss, total=   0.0s\n",
      "\n",
      " Time taken: 0 hours 0 minutes and 5.28 seconds.\n"
     ]
    },
    {
     "name": "stderr",
     "output_type": "stream",
     "text": [
      "[Parallel(n_jobs=1)]: Done 120 out of 120 | elapsed:    5.1s finished\n"
     ]
    }
   ],
   "source": [
    "from datetime import datetime\n",
    "\n",
    "start_time = timer(None) # timing starts from this point for \"start_time\" variable\n",
    "lgbm_random.fit(X_train, y_train)\n",
    "timer(start_time) # timing ends here for \"start_time\" variable"
   ]
  },
  {
   "cell_type": "code",
   "execution_count": 13,
   "metadata": {},
   "outputs": [
    {
     "name": "stdout",
     "output_type": "stream",
     "text": [
      "{'boosting_type': 'gbdt',\n",
      " 'min_child_samples': 20,\n",
      " 'min_child_weight': 1e-05,\n",
      " 'n_estimators': 50,\n",
      " 'reg_alpha': 0.001}\n",
      "Negative mean squared error is: -13.418391020808027\n"
     ]
    }
   ],
   "source": [
    "pprint (lgbm_random.best_params_)\n",
    "print ('Negative mean squared error is:', lgbm_random.best_score_)"
   ]
  },
  {
   "cell_type": "code",
   "execution_count": 14,
   "metadata": {},
   "outputs": [
    {
     "data": {
      "text/plain": [
       "{'reg_alpha': 0.001,\n",
       " 'n_estimators': 50,\n",
       " 'min_child_weight': 1e-05,\n",
       " 'min_child_samples': 20,\n",
       " 'boosting_type': 'gbdt'}"
      ]
     },
     "execution_count": 14,
     "metadata": {},
     "output_type": "execute_result"
    }
   ],
   "source": [
    "best_parameters = lgbm_random.best_params_\n",
    "best_parameters"
   ]
  },
  {
   "cell_type": "markdown",
   "metadata": {},
   "source": [
    "# Model Evaluation\n",
    "\n",
    "### Let's compute the accuracy of the model based on the actual target test data and the predicted result."
   ]
  },
  {
   "cell_type": "code",
   "execution_count": 15,
   "metadata": {},
   "outputs": [
    {
     "name": "stdout",
     "output_type": "stream",
     "text": [
      "Model Performance\n",
      "Average Error: 2.3631 degrees.\n",
      "Accuracy = 78.232%.\n"
     ]
    }
   ],
   "source": [
    "## Base model\n",
    "\n",
    "def evaluate(model, X_test, y_test):\n",
    "    predictions = model.predict(X_test)\n",
    "    errors = abs(predictions - y_test)\n",
    "    mape = 100 * np.mean(errors / y_test)\n",
    "    accuracy = 100 - mape\n",
    "    print('Model Performance')\n",
    "    print('Average Error: {:0.4f} degrees.'.format(np.mean(errors)))\n",
    "    print('Accuracy = {:0.3f}%.'.format(accuracy))\n",
    "    \n",
    "    return accuracy\n",
    "\n",
    "base_model.fit(X_train, y_train)\n",
    "base_accuracy = evaluate(base_model, X_test, y_test)"
   ]
  },
  {
   "cell_type": "code",
   "execution_count": 16,
   "metadata": {},
   "outputs": [
    {
     "name": "stdout",
     "output_type": "stream",
     "text": [
      "Model Performance\n",
      "Average Error: 2.3447 degrees.\n",
      "Accuracy = 78.399%.\n"
     ]
    }
   ],
   "source": [
    "## Tuned Model\n",
    "\n",
    "best_random = LGBMRegressor(random_state = 42, reg_alpha = 0.001, n_estimators = 50, min_child_weight = 1e-05, min_child_samples = 20, boosting_type = 'gbdt')\n",
    "best_random.fit(X_train, y_train)\n",
    "randomized_accuracy = evaluate(best_random, X_test, y_test)"
   ]
  },
  {
   "cell_type": "code",
   "execution_count": 17,
   "metadata": {},
   "outputs": [
    {
     "name": "stdout",
     "output_type": "stream",
     "text": [
      "Improvement of 0.21%.\n"
     ]
    }
   ],
   "source": [
    "print('Improvement of {:0.2f}%.'.format( 100 * (randomized_accuracy - base_accuracy) / base_accuracy))"
   ]
  },
  {
   "cell_type": "markdown",
   "metadata": {},
   "source": [
    "#### The improvement is little though!\n",
    "\n",
    "##### Let's look at the important performace metrics--\n",
    "\n",
    "### Base Model"
   ]
  },
  {
   "cell_type": "code",
   "execution_count": 18,
   "metadata": {},
   "outputs": [
    {
     "name": "stdout",
     "output_type": "stream",
     "text": [
      "Mean absolute error: 2.3631278164708456\n",
      "Mean squared error: 10.368212400010595\n",
      "Root mean squared error: 3.219970869435094\n",
      "R Squared value: 0.6000567084824446\n",
      "Adjusted R Squared Value: 0.5935476856548534\n"
     ]
    }
   ],
   "source": [
    "base_model.fit(X_train, y_train)\n",
    "y_hat_base = base_model.predict(X_test)\n",
    "\n",
    "from sklearn import metrics\n",
    "\n",
    "rsquared = metrics.r2_score(y_test, y_hat_base)\n",
    "adjusted_r_squared = 1 - (1-rsquared)*(len(y_test)-1)/(len(y_test)-X_test.shape[1]-1)\n",
    "print('Mean absolute error: {}'.format(metrics.mean_absolute_error(y_test, y_hat_base)))\n",
    "print('Mean squared error: {}'.format(metrics.mean_squared_error(y_test, y_hat_base)))\n",
    "print('Root mean squared error: {}'.format(np.sqrt(metrics.mean_squared_error(y_test, y_hat_base))))\n",
    "print('R Squared value: {}'.format(rsquared))\n",
    "print('Adjusted R Squared Value: {}'.format(adjusted_r_squared))\n",
    "\n",
    "y_pred = lgbm_random.predict(X_test)"
   ]
  },
  {
   "cell_type": "markdown",
   "metadata": {},
   "source": [
    "### Tuned Model"
   ]
  },
  {
   "cell_type": "code",
   "execution_count": 19,
   "metadata": {},
   "outputs": [
    {
     "name": "stdout",
     "output_type": "stream",
     "text": [
      "Mean absolute error: 2.344685034539975\n",
      "Mean squared error: 10.341907059795222\n",
      "Root mean squared error: 3.215883558183539\n",
      "R Squared value: 0.6010714103369529\n",
      "Adjusted R Squared Value: 0.5945789016444258\n"
     ]
    }
   ],
   "source": [
    "y_hat = best_random.predict(X_test)\n",
    "\n",
    "rsquared = metrics.r2_score(y_test, y_hat)\n",
    "adjusted_r_squared = 1 - (1-rsquared)*(len(y_test)-1)/(len(y_test)-X_test.shape[1]-1)\n",
    "print('Mean absolute error: {}'.format(metrics.mean_absolute_error(y_test, y_hat)))\n",
    "print('Mean squared error: {}'.format(metrics.mean_squared_error(y_test, y_hat)))\n",
    "print('Root mean squared error: {}'.format(np.sqrt(metrics.mean_squared_error(y_test, y_hat))))\n",
    "print('R Squared value: {}'.format(rsquared))\n",
    "print('Adjusted R Squared Value: {}'.format(adjusted_r_squared))"
   ]
  },
  {
   "cell_type": "markdown",
   "metadata": {},
   "source": [
    "### Feature Importance"
   ]
  },
  {
   "cell_type": "code",
   "execution_count": 20,
   "metadata": {},
   "outputs": [
    {
     "data": {
      "image/png": "[encoded data removed]",
      "text/plain": [
       "<Figure size 576x396 with 1 Axes>"
      ]
     },
     "metadata": {},
     "output_type": "display_data"
    },
    {
     "data": {
      "text/plain": [
       "<matplotlib.axes._subplots.AxesSubplot at 0x152e7801e48>"
      ]
     },
     "execution_count": 20,
     "metadata": {},
     "output_type": "execute_result"
    }
   ],
   "source": [
    "from yellowbrick.model_selection import FeatureImportances\n",
    "\n",
    "model = LGBMRegressor(random_state = 42, reg_alpha = 0.001, n_estimators = 50, min_child_weight = 1e-05, min_child_samples = 20, boosting_type = 'gbdt')\n",
    "\n",
    "# Title case the feature for better display and create the visualizer\n",
    "labels = df.columns.to_list()\n",
    "viz = FeatureImportances(model, labels=labels, relative=False)\n",
    "\n",
    "# Fit and show the feature importances\n",
    "viz.fit(X, y)\n",
    "viz.show()"
   ]
  },
  {
   "cell_type": "markdown",
   "metadata": {},
   "source": [
    "#### The error terms are small and the model can moderately explain variability.\n",
    "\n",
    "##### Should we look at the distribution plot of the actual and predicted values of the target variable?"
   ]
  },
  {
   "cell_type": "code",
   "execution_count": 21,
   "metadata": {},
   "outputs": [
    {
     "data": {
      "image/png": "[encoded data removed]",
      "text/plain": [
       "<Figure size 864x432 with 1 Axes>"
      ]
     },
     "metadata": {},
     "output_type": "display_data"
    }
   ],
   "source": [
    "def DistributionPlot(test, predicted, testName, predName, model):\n",
    "    width = 12\n",
    "    height = 6\n",
    "    plt.figure(figsize= (width, height))\n",
    "\n",
    "    ax1 = sns.distplot(test, hist = True, color = \"mediumseagreen\", label = testName)\n",
    "    ax2 = sns.distplot(predicted, hist = True, color = \"gray\", label = predName, ax = ax1)\n",
    "\n",
    "    plt.title('Distribution Plot of the Test and Predicted Data of {}'.format(model), fontsize= 'large')\n",
    "    plt.xlabel('PM 2.5', fontsize= 'large')\n",
    "    #plt.ylabel('Fequency')\n",
    "    plt.legend(fontsize= 'large')\n",
    "    plt.grid(None)\n",
    "    plt.gca().spines['top'].set_visible(False)\n",
    "    plt.gca().spines['right'].set_visible(False)\n",
    "\n",
    "    plt.show()\n",
    "\n",
    "DistributionPlot(y_test, y_hat, \"Actual Values\", \"Predicted Values\", 'Optimized LightGBM Regressor')"
   ]
  },
  {
   "cell_type": "markdown",
   "metadata": {},
   "source": [
    "#### What the residuals look like?"
   ]
  },
  {
   "cell_type": "code",
   "execution_count": 22,
   "metadata": {},
   "outputs": [
    {
     "data": {
      "text/plain": [
       "<matplotlib.axes._subplots.AxesSubplot at 0x152e787f9c8>"
      ]
     },
     "execution_count": 22,
     "metadata": {},
     "output_type": "execute_result"
    },
    {
     "data": {
      "image/png": "[encoded data removed]",
      "text/plain": [
       "<Figure size 576x396 with 1 Axes>"
      ]
     },
     "metadata": {},
     "output_type": "display_data"
    }
   ],
   "source": [
    "sns.distplot(y_test - y_hat)"
   ]
  },
  {
   "cell_type": "code",
   "execution_count": 23,
   "metadata": {},
   "outputs": [
    {
     "data": {
      "image/png": "[encoded data removed]",
      "text/plain": [
       "<Figure size 576x396 with 2 Axes>"
      ]
     },
     "metadata": {},
     "output_type": "display_data"
    },
    {
     "data": {
      "text/plain": [
       "<matplotlib.axes._subplots.AxesSubplot at 0x152ea024fc8>"
      ]
     },
     "execution_count": 23,
     "metadata": {},
     "output_type": "execute_result"
    }
   ],
   "source": [
    "from yellowbrick.regressor import ResidualsPlot\n",
    "visualizer = ResidualsPlot(best_random, qqplot = True, hist = True)\n",
    "visualizer.fit(X_train, y_train)\n",
    "visualizer.score(X_test, y_test)\n",
    "visualizer.show()"
   ]
  },
  {
   "cell_type": "markdown",
   "metadata": {},
   "source": [
    "#### Not too bad! The dots are pretty close except for some."
   ]
  },
  {
   "cell_type": "code",
   "execution_count": 24,
   "metadata": {},
   "outputs": [
    {
     "data": {
      "image/png": "[encoded data removed]",
      "text/plain": [
       "<Figure size 432x432 with 1 Axes>"
      ]
     },
     "metadata": {},
     "output_type": "display_data"
    }
   ],
   "source": [
    "from yellowbrick.regressor import prediction_error\n",
    "\n",
    "width = 6\n",
    "height = 6\n",
    "plt.figure(figsize= (width, height))\n",
    "\n",
    "# Instantiate the linear model and visualizer\n",
    "visualizer = prediction_error(best_random, X_train, y_train, X_test, y_test)"
   ]
  },
  {
   "cell_type": "markdown",
   "metadata": {},
   "source": [
    "### Let's fit the whole data now Predict result from user input."
   ]
  },
  {
   "cell_type": "code",
   "execution_count": 25,
   "metadata": {},
   "outputs": [
    {
     "data": {
      "text/plain": [
       "LGBMRegressor(min_child_weight=1e-05, n_estimators=50, random_state=42,\n",
       "              reg_alpha=0.001)"
      ]
     },
     "execution_count": 25,
     "metadata": {},
     "output_type": "execute_result"
    }
   ],
   "source": [
    "best_random.fit(X, y)"
   ]
  },
  {
   "cell_type": "code",
   "execution_count": 27,
   "metadata": {},
   "outputs": [],
   "source": [
    "import pickle \n",
    "# open a file, where you ant to store the data\n",
    "file = open('LightGBM_PM25.pkl', 'wb')\n",
    "\n",
    "# dump information to that file\n",
    "pickle.dump(best_random, file)"
   ]
  }
 ],
 "metadata": {
  "kernelspec": {
   "display_name": "Python 3",
   "language": "python",
   "name": "python3"
  },
  "language_info": {
   "codemirror_mode": {
    "name": "ipython",
    "version": 3
   },
   "file_extension": ".py",
   "mimetype": "text/x-python",
   "name": "python",
   "nbconvert_exporter": "python",
   "pygments_lexer": "ipython3",
   "version": "3.7.6"
  }
 },
 "nbformat": 4,
 "nbformat_minor": 4
}
